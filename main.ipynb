{
 "cells": [
  {
   "cell_type": "code",
   "execution_count": 1,
   "metadata": {},
   "outputs": [
    {
     "name": "stdout",
     "output_type": "stream",
     "text": [
      "\u001b[1;31mType:\u001b[0m        list\n",
      "\u001b[1;31mString form:\u001b[0m [1, 2, 3]\n",
      "\u001b[1;31mLength:\u001b[0m      3\n",
      "\u001b[1;31mDocstring:\u001b[0m  \n",
      "Built-in mutable sequence.\n",
      "\n",
      "If no argument is given, the constructor creates a new empty list.\n",
      "The argument must be an iterable if specified."
     ]
    }
   ],
   "source": [
    "b = [1, 2, 3]\n",
    "\n",
    "b?"
   ]
  },
  {
   "cell_type": "code",
   "execution_count": 2,
   "metadata": {},
   "outputs": [
    {
     "name": "stdout",
     "output_type": "stream",
     "text": [
      "['cherry', 'orange', 'kiwi']\n"
     ]
    }
   ],
   "source": [
    "thislist = [\"apple\", \"banana\", \"cherry\", \"orange\", \"kiwi\", \"melon\", \"mango\"]\n",
    "print(thislist[2:5])\n",
    "\n",
    "#The expression thislist[2:5] is a list slicing operation. It selects elements starting from the index 2 up to, but not including, the index 5."
   ]
  },
  {
   "cell_type": "code",
   "execution_count": 7,
   "metadata": {},
   "outputs": [
    {
     "name": "stdout",
     "output_type": "stream",
     "text": [
      "Yes apple is in the list\n"
     ]
    }
   ],
   "source": [
    "thislist = [\"apple\", \"car\", \"maize\"]\n",
    "\n",
    "if \"car\" in thislist:\n",
    "    print(\"Yes apple is in the list\")\n",
    "else:\n",
    "    print(\"not in the list\")"
   ]
  },
  {
   "cell_type": "code",
   "execution_count": 3,
   "metadata": {},
   "outputs": [
    {
     "name": "stdout",
     "output_type": "stream",
     "text": [
      "num1 = 3 num2 = 7\n",
      "10\n"
     ]
    }
   ],
   "source": [
    "my_list = [\"Hello\", 1, 3, 4, 7, \"World\"]\n",
    "\n",
    "num1 = my_list.pop(2)\n",
    "num2 = my_list.pop(3)\n",
    "\n",
    "print(f\"num1 = {num1} num2 = {num2}\")\n",
    "\n",
    "print(sum((num1,num2)))"
   ]
  },
  {
   "cell_type": "code",
   "execution_count": 1,
   "metadata": {},
   "outputs": [
    {
     "name": "stdout",
     "output_type": "stream",
     "text": [
      "['apple', 'orange', 'banana', 'cherry']\n"
     ]
    }
   ],
   "source": [
    "thislist = [\"apple\", \"banana\", \"cherry\"]\n",
    "thislist.insert(1, \"orange\")\n",
    "print(thislist)"
   ]
  },
  {
   "cell_type": "code",
   "execution_count": 2,
   "metadata": {},
   "outputs": [
    {
     "name": "stdout",
     "output_type": "stream",
     "text": [
      "['apple', 'banana', 'cherry', 'orange']\n"
     ]
    }
   ],
   "source": [
    "thislist = [\"apple\", \"banana\", \"cherry\"]\n",
    "thislist.append(\"orange\")\n",
    "print(thislist)"
   ]
  },
  {
   "cell_type": "code",
   "execution_count": 3,
   "metadata": {},
   "outputs": [
    {
     "name": "stdout",
     "output_type": "stream",
     "text": [
      "['apple', 'cherry']\n"
     ]
    }
   ],
   "source": [
    "thislist = [\"apple\", \"banana\", \"cherry\"]\n",
    "thislist.remove(\"banana\")\n",
    "print(thislist)\n"
   ]
  },
  {
   "cell_type": "code",
   "execution_count": 4,
   "metadata": {},
   "outputs": [
    {
     "name": "stdout",
     "output_type": "stream",
     "text": [
      "['banana', 'cherry']\n"
     ]
    }
   ],
   "source": [
    "thislist = [\"apple\", \"banana\", \"cherry\"]\n",
    "del thislist[0]\n",
    "print(thislist)"
   ]
  },
  {
   "cell_type": "code",
   "execution_count": 5,
   "metadata": {},
   "outputs": [],
   "source": [
    "thislist = [\"apple\", \"banana\", \"cherry\"]\n",
    "del thislist"
   ]
  },
  {
   "cell_type": "code",
   "execution_count": 6,
   "metadata": {},
   "outputs": [
    {
     "name": "stdout",
     "output_type": "stream",
     "text": [
      "[]\n"
     ]
    }
   ],
   "source": [
    "thislist = [\"apple\", \"banana\", \"cherry\"]\n",
    "thislist.clear()\n",
    "print(thislist)"
   ]
  },
  {
   "cell_type": "code",
   "execution_count": 1,
   "metadata": {},
   "outputs": [
    {
     "name": "stdout",
     "output_type": "stream",
     "text": [
      "('apple', 'kiwi', 'cherry')\n"
     ]
    }
   ],
   "source": [
    "x = (\"apple\", \"banana\", \"cherry\")\n",
    "y = list(x)\n",
    "y[1] = \"kiwi\"\n",
    "x = tuple(y)\n",
    "\n",
    "print(x)"
   ]
  },
  {
   "cell_type": "code",
   "execution_count": 2,
   "metadata": {},
   "outputs": [
    {
     "name": "stdout",
     "output_type": "stream",
     "text": [
      "('apple', 'banana', 'cherry', 'orange')\n"
     ]
    }
   ],
   "source": [
    "thistuple = (\"apple\", \"banana\", \"cherry\")\n",
    "y = (\"orange\",)\n",
    "thistuple += y\n",
    "\n",
    "print(thistuple)"
   ]
  },
  {
   "cell_type": "code",
   "execution_count": 3,
   "metadata": {},
   "outputs": [
    {
     "ename": "NameError",
     "evalue": "name 'thistuple' is not defined",
     "output_type": "error",
     "traceback": [
      "\u001b[1;31m---------------------------------------------------------------------------\u001b[0m",
      "\u001b[1;31mNameError\u001b[0m                                 Traceback (most recent call last)",
      "Cell \u001b[1;32mIn[3], line 3\u001b[0m\n\u001b[0;32m      1\u001b[0m thistuple \u001b[38;5;241m=\u001b[39m (\u001b[38;5;124m\"\u001b[39m\u001b[38;5;124mapple\u001b[39m\u001b[38;5;124m\"\u001b[39m, \u001b[38;5;124m\"\u001b[39m\u001b[38;5;124mbanana\u001b[39m\u001b[38;5;124m\"\u001b[39m, \u001b[38;5;124m\"\u001b[39m\u001b[38;5;124mcherry\u001b[39m\u001b[38;5;124m\"\u001b[39m)\n\u001b[0;32m      2\u001b[0m \u001b[38;5;28;01mdel\u001b[39;00m thistuple\n\u001b[1;32m----> 3\u001b[0m \u001b[38;5;28mprint\u001b[39m(thistuple)\n",
      "\u001b[1;31mNameError\u001b[0m: name 'thistuple' is not defined"
     ]
    }
   ],
   "source": [
    "thistuple = (\"apple\", \"banana\", \"cherry\")\n",
    "del thistuple\n",
    "print(thistuple)"
   ]
  },
  {
   "cell_type": "code",
   "execution_count": 3,
   "metadata": {},
   "outputs": [
    {
     "name": "stdout",
     "output_type": "stream",
     "text": [
      "['Python']\n"
     ]
    }
   ],
   "source": [
    "my_string = 'Python'.split(' ')\n",
    "\n",
    "print(my_string)"
   ]
  },
  {
   "cell_type": "code",
   "execution_count": 4,
   "metadata": {},
   "outputs": [
    {
     "name": "stdout",
     "output_type": "stream",
     "text": [
      "1\n",
      "6\n",
      "0\n",
      " \n",
      "+\n",
      " \n",
      "1\n",
      "3\n",
      "5\n",
      " \n",
      "=\n",
      " \n",
      " \n",
      "2\n",
      "9\n",
      "5\n"
     ]
    }
   ],
   "source": [
    "equation = '160 + 135 =  295'\n",
    "\n",
    "for symbol in equation:\n",
    "    if symbol in equation:\n",
    "        print(symbol) \n",
    "        \n",
    "\"\"\" the variable symbol is a placeholder that represents each individual character in the string equation during each iteration of the for loop. \"\"\""
   ]
  },
  {
   "cell_type": "code",
   "execution_count": 6,
   "metadata": {},
   "outputs": [
    {
     "name": "stdout",
     "output_type": "stream",
     "text": [
      "[4]\n"
     ]
    }
   ],
   "source": [
    "a = {1, 2,3, 4}\n",
    "b = {3,4,5}\n",
    "c, *d = a & b   #This performs a set intersection operation between sets a and b\n",
    "\"\"\"\n",
    "c variable is assigned the first value from the set intersection result. In this case, c is assigned the value 3.\n",
    "The * operator is used here for extended unpacking. It allows you to collect the remaining elements into a list. In this case, it collects all the elements after the first one. So, d will be assigned the list [4].\n",
    " \n",
    "\"\"\"\n",
    "print(d)\n"
   ]
  },
  {
   "cell_type": "code",
   "execution_count": 7,
   "metadata": {},
   "outputs": [
    {
     "name": "stdout",
     "output_type": "stream",
     "text": [
      "PythonisPython\n"
     ]
    }
   ],
   "source": [
    "def my_str():\n",
    "    message = \"Python\"\n",
    "    new_msg = message + \"is\" + message\n",
    "    new_msg.replace(message, \"Greate \")\n",
    "    # String Replacement (Not Effective)\n",
    "    \"\"\"     The replace method does not modify the original string in-place but returns a new string with replacements. In this case, the result of new_msg.replace(...) is not assigned back to new_msg, so the modification is essentially discarded. \"\"\"   \n",
    "    return new_msg\n",
    "\n",
    "print(my_str())"
   ]
  },
  {
   "cell_type": "code",
   "execution_count": 8,
   "metadata": {},
   "outputs": [
    {
     "ename": "TypeError",
     "evalue": "unsupported operand type(s) for +: 'int' and 'str'",
     "output_type": "error",
     "traceback": [
      "\u001b[1;31m---------------------------------------------------------------------------\u001b[0m",
      "\u001b[1;31mTypeError\u001b[0m                                 Traceback (most recent call last)",
      "Cell \u001b[1;32mIn[8], line 1\u001b[0m\n\u001b[1;32m----> 1\u001b[0m my_sum \u001b[38;5;241m=\u001b[39m \u001b[38;5;28msum\u001b[39m((\u001b[38;5;124m\"\u001b[39m\u001b[38;5;124m1\u001b[39m\u001b[38;5;124m\"\u001b[39m, \u001b[38;5;124m\"\u001b[39m\u001b[38;5;124m2\u001b[39m\u001b[38;5;124m\"\u001b[39m,\u001b[38;5;124m\"\u001b[39m\u001b[38;5;124m3\u001b[39m\u001b[38;5;124m\"\u001b[39m))\n",
      "\u001b[1;31mTypeError\u001b[0m: unsupported operand type(s) for +: 'int' and 'str'"
     ]
    }
   ],
   "source": [
    "my_sum = sum((\"1\", \"2\",\"3\"))\n",
    "\n",
    "\n",
    "\n"
   ]
  },
  {
   "cell_type": "code",
   "execution_count": 11,
   "metadata": {},
   "outputs": [
    {
     "name": "stdout",
     "output_type": "stream",
     "text": [
      "123\n"
     ]
    }
   ],
   "source": [
    "another_sum = \"1\" + \"2\" + \"3\"\n",
    "\n",
    "print(another_sum)\n"
   ]
  },
  {
   "cell_type": "code",
   "execution_count": 12,
   "metadata": {},
   "outputs": [
    {
     "name": "stdout",
     "output_type": "stream",
     "text": [
      "apple\n",
      "banana\n",
      "cherry\n"
     ]
    }
   ],
   "source": [
    "fruits = (\"apple\", \"banana\", \"cherry\")\n",
    "\n",
    "(green, yellow, red) = fruits  # performs tuple unpacking. It assigns each element of the fruits tuple to the variables green, yellow, and red respectively. The order of assignment is based on the order of elements in the tuple.\n",
    "\n",
    "print(green)\n",
    "print(yellow)\n",
    "print(red)"
   ]
  },
  {
   "cell_type": "code",
   "execution_count": 13,
   "metadata": {},
   "outputs": [
    {
     "name": "stdout",
     "output_type": "stream",
     "text": [
      "2\n"
     ]
    }
   ],
   "source": [
    "thistuple = (1, 3, 7, 8, 7, 5, 4, 6, 8, 5)\n",
    "\n",
    "x = thistuple.count(5)\n",
    "\n",
    "print(x)"
   ]
  },
  {
   "cell_type": "code",
   "execution_count": 1,
   "metadata": {},
   "outputs": [
    {
     "name": "stdout",
     "output_type": "stream",
     "text": [
      "{'apple', 'pineapple', 'papaya', 'banana', 'mango', 'cherry'}\n"
     ]
    }
   ],
   "source": [
    "thisset = {\"apple\",\"banana\",\"cherry\"}\n",
    "tropical = {\"pineapple\",\"mango\",\"papaya\"}\n",
    "\n",
    "\n",
    "thisset.update(tropical)\n",
    "\n",
    "print(thisset)"
   ]
  },
  {
   "cell_type": "code",
   "execution_count": 1,
   "metadata": {},
   "outputs": [
    {
     "name": "stdout",
     "output_type": "stream",
     "text": [
      "Mustang\n"
     ]
    }
   ],
   "source": [
    "thisdict =\t{\n",
    "  \"brand\": \"Ford\",\n",
    "  \"model\": \"Mustang\",\n",
    "  \"year\": 1964\n",
    "}\n",
    "x = thisdict.get(\"model\")\n",
    "print(x)\n"
   ]
  },
  {
   "cell_type": "code",
   "execution_count": 2,
   "metadata": {},
   "outputs": [
    {
     "name": "stdout",
     "output_type": "stream",
     "text": [
      "dict_keys(['brand', 'model', 'year'])\n"
     ]
    }
   ],
   "source": [
    "x = thisdict.keys()\n",
    "\n",
    "print(x)"
   ]
  },
  {
   "cell_type": "code",
   "execution_count": 3,
   "metadata": {},
   "outputs": [
    {
     "name": "stdout",
     "output_type": "stream",
     "text": [
      "dict_items([('brand', 'Ford'), ('model', 'Mustang'), ('year', 1964)])\n"
     ]
    }
   ],
   "source": [
    "thisdict = {\n",
    "  \"brand\": \"Ford\",\n",
    "  \"model\": \"Mustang\",\n",
    "  \"year\": 1964\n",
    "}\n",
    "\n",
    "x = thisdict.items()\n",
    "\n",
    "print(x)"
   ]
  },
  {
   "cell_type": "code",
   "execution_count": 4,
   "metadata": {},
   "outputs": [
    {
     "name": "stdout",
     "output_type": "stream",
     "text": [
      "brand Ford\n",
      "model Mustang\n",
      "year 1964\n"
     ]
    }
   ],
   "source": [
    "thisdict =\t{\n",
    "  \"brand\": \"Ford\",\n",
    "  \"model\": \"Mustang\",\n",
    "  \"year\": 1964\n",
    "}\n",
    "for x, y in thisdict.items():\n",
    "  print(x, y)"
   ]
  },
  {
   "cell_type": "code",
   "execution_count": 1,
   "metadata": {},
   "outputs": [
    {
     "name": "stdout",
     "output_type": "stream",
     "text": [
      "[6, 7, 8, 9]\n"
     ]
    }
   ],
   "source": [
    "my_list = [\n",
    "    i for i in range(10) if i>5\n",
    "]\n",
    "\n",
    "print(my_list)"
   ]
  },
  {
   "cell_type": "code",
   "execution_count": 3,
   "metadata": {},
   "outputs": [
    {
     "name": "stdout",
     "output_type": "stream",
     "text": [
      "[1, 2, 4, 5]\n"
     ]
    }
   ],
   "source": [
    "my_numbers = [1,2,3,4,5]\n",
    "\n",
    "some_numbers = []\n",
    "\n",
    "for number in my_numbers:\n",
    "    if(number % 2 != 0 and number % 3 == 0):\n",
    "        continue # Skip if Conditions Met\n",
    "    some_numbers.append(number) \n",
    "\n",
    "print(some_numbers)"
   ]
  },
  {
   "cell_type": "code",
   "execution_count": 4,
   "metadata": {},
   "outputs": [
    {
     "name": "stdout",
     "output_type": "stream",
     "text": [
      "0\n",
      "0\n"
     ]
    }
   ],
   "source": [
    "for i in range(0, 1):\n",
    "    print(i)\n",
    "    for j in range(0,1):\n",
    "        print(j)"
   ]
  },
  {
   "cell_type": "code",
   "execution_count": 5,
   "metadata": {},
   "outputs": [
    {
     "name": "stdout",
     "output_type": "stream",
     "text": [
      "a =  10\n",
      "b =  5\n"
     ]
    }
   ],
   "source": [
    "a = 5 \n",
    "b = 10\n",
    "\n",
    "a = a ^ b\n",
    "b = a ^ b\n",
    "a = a ^ b\n",
    "\n",
    "print(\"a = \",a)\n",
    "print(\"b = \",b)"
   ]
  },
  {
   "cell_type": "code",
   "execution_count": 6,
   "metadata": {},
   "outputs": [
    {
     "name": "stdout",
     "output_type": "stream",
     "text": [
      "('ab', 'cd', 'ef')\n"
     ]
    }
   ],
   "source": [
    "my_str = 'abcdef'\n",
    "\n",
    "new_str = my_str.partition('cd') # partition() method in Python is used to split a string into three parts:\n",
    "\n",
    "print(new_str)"
   ]
  },
  {
   "cell_type": "code",
   "execution_count": 9,
   "metadata": {},
   "outputs": [
    {
     "name": "stdout",
     "output_type": "stream",
     "text": [
      "Logical Python\n",
      "is the Best\n"
     ]
    }
   ],
   "source": [
    "def my_exception():\n",
    "    try:\n",
    "        print(\"Logical Python\")\n",
    "        return # The return statement will immediately exit the function, so the line after it in the try block won't be executed.\n",
    "    finally: # finally block is guaranteed to be executed whether an exception occurs or not. In this case, it prints the string \"is the Best\".\n",
    "        print(\"is the Best\")\n",
    "        \n",
    "my_exception()"
   ]
  },
  {
   "cell_type": "code",
   "execution_count": 12,
   "metadata": {},
   "outputs": [
    {
     "name": "stdout",
     "output_type": "stream",
     "text": [
      "012"
     ]
    }
   ],
   "source": [
    "i = 0\n",
    "\n",
    "while i<5:\n",
    "    print(i, end= \"\") # print the current value of i without moving to a new line (end=\"\" ensures that the next print statement will continue on the same line). \n",
    "    i += 1\n",
    "    if i == 3:\n",
    "        break\n",
    "else:\n",
    "    print(0)"
   ]
  },
  {
   "cell_type": "code",
   "execution_count": 2,
   "metadata": {},
   "outputs": [
    {
     "name": "stdout",
     "output_type": "stream",
     "text": [
      "11\n",
      "8\n",
      "5\n"
     ]
    }
   ],
   "source": [
    "for i in range(11,2,-3): # the start value (11), the stop value (2), and the step value (-3)\n",
    "    print(i)"
   ]
  },
  {
   "cell_type": "code",
   "execution_count": 3,
   "metadata": {},
   "outputs": [
    {
     "name": "stdout",
     "output_type": "stream",
     "text": [
      "12\n"
     ]
    }
   ],
   "source": [
    "def my_args(x, y=9, z=10):\n",
    "    print(x+y+z)\n",
    "\n",
    "my_args(1, z = 2)"
   ]
  },
  {
   "cell_type": "code",
   "execution_count": 4,
   "metadata": {},
   "outputs": [
    {
     "name": "stdout",
     "output_type": "stream",
     "text": [
      "1\n"
     ]
    }
   ],
   "source": [
    "def outer():\n",
    "    x = 1\n",
    "    \n",
    "    def inner():\n",
    "        x = 2\n",
    "        return 2\n",
    "    \n",
    "    inner()\n",
    "    return x\n",
    "\n",
    "print(outer())"
   ]
  },
  {
   "cell_type": "code",
   "execution_count": 2,
   "metadata": {},
   "outputs": [
    {
     "name": "stdout",
     "output_type": "stream",
     "text": [
      "8 64\n"
     ]
    }
   ],
   "source": [
    "class Square:\n",
    "    def getArea(self):\n",
    "        return self.side * self.side \n",
    "\n",
    "obj = Square()\n",
    "obj.side = 8 \n",
    "print(obj.side, obj.getArea())"
   ]
  },
  {
   "cell_type": "code",
   "execution_count": 1,
   "metadata": {},
   "outputs": [
    {
     "name": "stdout",
     "output_type": "stream",
     "text": [
      "This car is a Toyota Corolla\n"
     ]
    }
   ],
   "source": [
    "class Car:\n",
    "    def __init__(self, make, model): # constructor\n",
    "        self.make = make  # Use self to assign values to instance attributes\n",
    "        self.model = model\n",
    "    \n",
    "    def display_info(self):\n",
    "        # Use self to access instance attributes within methods\n",
    "        print(f\"This car is a {self.make} {self.model}\")\n",
    "        \n",
    "# Creating an instance of Car\n",
    "my_car = Car(\"Toyota\", \"Corolla\")\n",
    "\n",
    "# Calling an instance method\n",
    "my_car.display_info()  # Output: This car is a Toyota Corolla\n"
   ]
  },
  {
   "cell_type": "code",
   "execution_count": 3,
   "metadata": {},
   "outputs": [
    {
     "name": "stdout",
     "output_type": "stream",
     "text": [
      "mike says woof!\n",
      "Buddy says woof!\n"
     ]
    }
   ],
   "source": [
    "class Dog:\n",
    "    def __init__(self, name):\n",
    "        self.name = name  # Here, self.name is like saying \"my name is\"\n",
    "    \n",
    "    def bark(self):\n",
    "        print(f\"{self.name} says woof!\")  # Using self.name to access the dog's name\n",
    "\n",
    "# Creating a dog named \"Buddy\"\n",
    "buddy = Dog(\"Buddy\")\n",
    "mike = Dog(\"mike\")\n",
    "mike.bark()\n",
    "\n",
    "\n",
    "# Buddy barks\n",
    "buddy.bark()  # Prints: Buddy says woof!\n"
   ]
  },
  {
   "cell_type": "code",
   "execution_count": 4,
   "metadata": {},
   "outputs": [
    {
     "name": "stdout",
     "output_type": "stream",
     "text": [
      "[1, 2, 3]\n"
     ]
    }
   ],
   "source": [
    "x = [1,2,3]\n",
    "y = x.copy()\n",
    "\n",
    "x.append(4)\n",
    "\n",
    "print(y)"
   ]
  },
  {
   "cell_type": "code",
   "execution_count": 5,
   "metadata": {},
   "outputs": [
    {
     "name": "stdout",
     "output_type": "stream",
     "text": [
      "3.14\n"
     ]
    }
   ],
   "source": [
    "class Circle:\n",
    "    pass\n",
    "Circle.pi = 3.14\n",
    "print(Circle.pi)\n",
    "Circle.pi = 3.1415\n",
    "\n"
   ]
  },
  {
   "cell_type": "code",
   "execution_count": 6,
   "metadata": {},
   "outputs": [
    {
     "name": "stdout",
     "output_type": "stream",
     "text": [
      "[10, 2, 20, 4, 30, 6, 40, 8, 50]\n"
     ]
    }
   ],
   "source": [
    "List = [1,2,3,4,5,6,7,8,9]\n",
    "\n",
    "List[::2] = [10,20,30,40,50]\n",
    "\n",
    "print(List)"
   ]
  },
  {
   "cell_type": "code",
   "execution_count": 7,
   "metadata": {},
   "outputs": [
    {
     "name": "stdout",
     "output_type": "stream",
     "text": [
      "-1\n"
     ]
    }
   ],
   "source": [
    "String = 'Hello World'\n",
    "print(String.find('HW')) # output -1 does not find substring"
   ]
  },
  {
   "cell_type": "code",
   "execution_count": 8,
   "metadata": {},
   "outputs": [
    {
     "name": "stdout",
     "output_type": "stream",
     "text": [
      "1\n",
      "3\n"
     ]
    }
   ],
   "source": [
    "try:\n",
    "    print(\"1\")\n",
    "except:\n",
    "    print(\"2\")\n",
    "print(\"3\")"
   ]
  },
  {
   "cell_type": "code",
   "execution_count": 9,
   "metadata": {},
   "outputs": [
    {
     "name": "stdout",
     "output_type": "stream",
     "text": [
      "[10, 2, 3]\n"
     ]
    }
   ],
   "source": [
    "x = [1,2,3]\n",
    "y = x \n",
    "\n",
    "y[0] = 10\n",
    "\n",
    "print(x)"
   ]
  },
  {
   "cell_type": "code",
   "execution_count": 2,
   "metadata": {},
   "outputs": [
    {
     "name": "stdout",
     "output_type": "stream",
     "text": [
      "life\n"
     ]
    }
   ],
   "source": [
    "data = [[\"High\", \"life\"]]\n",
    "\n",
    "print(\"Yes\" if 'high' in data[0][0] else data[0][1])"
   ]
  },
  {
   "cell_type": "code",
   "execution_count": 5,
   "metadata": {},
   "outputs": [
    {
     "name": "stdout",
     "output_type": "stream",
     "text": [
      "Logical Python\n",
      "Is the best\n"
     ]
    }
   ],
   "source": [
    "def my_exception():\n",
    "    try:\n",
    "        print(\"Logical Python\")\n",
    "        return\n",
    "    finally:\n",
    "        print(\"Is the best\")\n",
    "\n",
    "my_exception()"
   ]
  },
  {
   "cell_type": "code",
   "execution_count": 6,
   "metadata": {},
   "outputs": [
    {
     "name": "stdout",
     "output_type": "stream",
     "text": [
      "Hlo ol\n"
     ]
    }
   ],
   "source": [
    "my_string = \"Hello, World\"\n",
    "print(my_string[::2])"
   ]
  },
  {
   "cell_type": "code",
   "execution_count": 7,
   "metadata": {},
   "outputs": [
    {
     "name": "stdout",
     "output_type": "stream",
     "text": [
      "2\n"
     ]
    }
   ],
   "source": [
    "class Planet:\n",
    "    def __init__(self):\n",
    "        print('1')\n",
    "    def __init__(self):\n",
    "        print('2')\n",
    "        \n",
    "planet = Planet()       \n",
    "   "
   ]
  },
  {
   "cell_type": "code",
   "execution_count": 9,
   "metadata": {},
   "outputs": [
    {
     "name": "stdout",
     "output_type": "stream",
     "text": [
      "No\n",
      "('Midfielder', 'Forward')\n"
     ]
    }
   ],
   "source": [
    "data = 'Midfielder','Forward'\n",
    "\n",
    "print('Yes' if 'mid' in data else 'No')\n",
    "\n",
    "print(data)"
   ]
  },
  {
   "cell_type": "code",
   "execution_count": 13,
   "metadata": {},
   "outputs": [
    {
     "name": "stdout",
     "output_type": "stream",
     "text": [
      "The list is empty\n"
     ]
    }
   ],
   "source": [
    "my_list = ['apple']\n",
    "\n",
    "if my_list == True:\n",
    "    print(\"The list is not empty\")\n",
    "else:\n",
    "    print('The list is empty')\n",
    "    "
   ]
  },
  {
   "cell_type": "code",
   "execution_count": 15,
   "metadata": {},
   "outputs": [
    {
     "name": "stdout",
     "output_type": "stream",
     "text": [
      "The list is not empty\n"
     ]
    }
   ],
   "source": [
    "my_list = ['apple']\n",
    "\n",
    "if my_list:  # This is the Pythonic way to check if a list is not empty\n",
    "    print(\"The list is not empty\")\n",
    "else:\n",
    "    print('The list is empty')\n"
   ]
  },
  {
   "cell_type": "code",
   "execution_count": 17,
   "metadata": {},
   "outputs": [
    {
     "name": "stdout",
     "output_type": "stream",
     "text": [
      "10\n"
     ]
    }
   ],
   "source": [
    "check1 = ['learn', 'Quiz','Practice','Contribute']\n",
    "\n",
    "check2 = check1\n",
    "\n",
    "check3 = check1[:]\n",
    "\n",
    "check2[0] = 'Code'\n",
    "check3[1] = 'Mcq'\n",
    "\n",
    "count = 0\n",
    "\n",
    "for c in (check1, check2, check3):\n",
    "    if c[0] == 'code':\n",
    "        count += 1\n",
    "    if c[1] == 'Mcq':\n",
    "        count += 10\n",
    "\n",
    "print(count)"
   ]
  },
  {
   "cell_type": "code",
   "execution_count": 18,
   "metadata": {},
   "outputs": [
    {
     "name": "stdout",
     "output_type": "stream",
     "text": [
      "True\n"
     ]
    }
   ],
   "source": [
    "a = True\n",
    "b = False\n",
    "\n",
    "print(a == b or not b)"
   ]
  },
  {
   "cell_type": "code",
   "execution_count": 19,
   "metadata": {},
   "outputs": [
    {
     "name": "stdout",
     "output_type": "stream",
     "text": [
      "True\n"
     ]
    }
   ],
   "source": [
    "x = 'Monday'\n",
    "print('Mon' in x )"
   ]
  },
  {
   "cell_type": "code",
   "execution_count": 20,
   "metadata": {},
   "outputs": [
    {
     "name": "stdout",
     "output_type": "stream",
     "text": [
      "20 10\n"
     ]
    }
   ],
   "source": [
    "value = 10 \n",
    "def func():\n",
    "    value = 20\n",
    "    print(value, end= \" \")\n",
    "func()\n",
    "print(value)"
   ]
  },
  {
   "cell_type": "code",
   "execution_count": 1,
   "metadata": {},
   "outputs": [
    {
     "name": "stdout",
     "output_type": "stream",
     "text": [
      "0\n"
     ]
    }
   ],
   "source": [
    "int1 = 10\n",
    "int2 = 6\n",
    "if int != int2:\n",
    "    int2 = ++int1\n",
    "    print(int1 - int2)"
   ]
  },
  {
   "cell_type": "code",
   "execution_count": 6,
   "metadata": {},
   "outputs": [
    {
     "name": "stdout",
     "output_type": "stream",
     "text": [
      "Found Alice\n"
     ]
    }
   ],
   "source": [
    "user = {\"name\":\"Alice\", \"age\":30}\n",
    "name_check = \"Alice\"\n",
    "\n",
    "if name_check in user.values():\n",
    "    print(f'Found {name_check}')\n",
    "else:\n",
    "    print(f'Did not find {name_check}')\n",
    "    \n",
    "# In the context of a dictionary, the in operator checks for the presence of a key in the dictionary, not a value. "
   ]
  },
  {
   "cell_type": "code",
   "execution_count": 7,
   "metadata": {},
   "outputs": [
    {
     "ename": "TypeError",
     "evalue": "must be real number, not str",
     "output_type": "error",
     "traceback": [
      "\u001b[1;31m---------------------------------------------------------------------------\u001b[0m",
      "\u001b[1;31mTypeError\u001b[0m                                 Traceback (most recent call last)",
      "Cell \u001b[1;32mIn[7], line 3\u001b[0m\n\u001b[0;32m      1\u001b[0m \u001b[38;5;28;01mimport\u001b[39;00m \u001b[38;5;21;01marray\u001b[39;00m \u001b[38;5;28;01mas\u001b[39;00m \u001b[38;5;21;01marr\u001b[39;00m \n\u001b[1;32m----> 3\u001b[0m numbers \u001b[38;5;241m=\u001b[39m arr\u001b[38;5;241m.\u001b[39marray(\u001b[38;5;124m'\u001b[39m\u001b[38;5;124mf\u001b[39m\u001b[38;5;124m'\u001b[39m, [\u001b[38;5;241m8\u001b[39m,\u001b[38;5;124m'\u001b[39m\u001b[38;5;124ms\u001b[39m\u001b[38;5;124m'\u001b[39m])\n\u001b[0;32m      4\u001b[0m \u001b[38;5;28mprint\u001b[39m(\u001b[38;5;28mlen\u001b[39m(numbers))\n",
      "\u001b[1;31mTypeError\u001b[0m: must be real number, not str"
     ]
    }
   ],
   "source": [
    "import array as arr \n",
    "\n",
    "numbers = arr.array('f', [8,'s'])\n",
    "print(len(numbers))\n",
    "\n",
    "#The array module in Python is used for creating arrays with elements of the same type"
   ]
  },
  {
   "cell_type": "code",
   "execution_count": 8,
   "metadata": {},
   "outputs": [
    {
     "name": "stdout",
     "output_type": "stream",
     "text": [
      "30\n"
     ]
    }
   ],
   "source": [
    "my_lambda = lambda X: (lambda y:(lambda z: z))\n",
    "result = my_lambda(10)(20)(30)\n",
    "\n",
    "print(result)"
   ]
  },
  {
   "cell_type": "code",
   "execution_count": 9,
   "metadata": {},
   "outputs": [
    {
     "name": "stdout",
     "output_type": "stream",
     "text": [
      "Odd numbure are:  [1, 3, 5]\n"
     ]
    }
   ],
   "source": [
    "list1 = [1,2,3,4,5,6]\n",
    "\n",
    "odd_nos = list(filter(lambda x: (x % 2 != 0), list1))\n",
    "\n",
    "print(\"Odd numbure are: \" ,odd_nos)"
   ]
  },
  {
   "cell_type": "code",
   "execution_count": 1,
   "metadata": {},
   "outputs": [
    {
     "name": "stdout",
     "output_type": "stream",
     "text": [
      "5\n"
     ]
    }
   ],
   "source": [
    "my_list = [1,2,3] + [4,5]\n",
    "print(len(my_list))"
   ]
  },
  {
   "cell_type": "code",
   "execution_count": 1,
   "metadata": {},
   "outputs": [
    {
     "name": "stdout",
     "output_type": "stream",
     "text": [
      "oi\n"
     ]
    }
   ],
   "source": [
    "name = \"LogicalPython\"\n",
    "print(name[1:5:2])"
   ]
  },
  {
   "cell_type": "code",
   "execution_count": 1,
   "metadata": {},
   "outputs": [
    {
     "name": "stdout",
     "output_type": "stream",
     "text": [
      "600\n"
     ]
    }
   ],
   "source": [
    "number1 = 20\n",
    "number2 = 30\n",
    "\n",
    "result = number1 * number2\n",
    "\n",
    "print(result)"
   ]
  },
  {
   "cell_type": "code",
   "execution_count": 11,
   "metadata": {},
   "outputs": [
    {
     "name": "stdout",
     "output_type": "stream",
     "text": [
      "Current Number  1 Previous Number  0 Sum :  1\n",
      "Current Number  2 Previous Number  1 Sum :  3\n",
      "Current Number  3 Previous Number  2 Sum :  5\n",
      "Current Number  4 Previous Number  3 Sum :  7\n",
      "Current Number  5 Previous Number  4 Sum :  9\n",
      "Current Number  6 Previous Number  5 Sum :  11\n",
      "Current Number  7 Previous Number  6 Sum :  13\n",
      "Current Number  8 Previous Number  7 Sum :  15\n",
      "Current Number  9 Previous Number  8 Sum :  17\n"
     ]
    }
   ],
   "source": [
    "\n",
    "for i in range(1, 10):\n",
    "    c = i # current number\n",
    "    i -= 1 # decrement\n",
    "    p = i # previous number\n",
    "    sum = c + p\n",
    "    print(\"Current Number \", c , \"Previous Number \", p , \"Sum : \", sum)"
   ]
  },
  {
   "cell_type": "code",
   "execution_count": 5,
   "metadata": {},
   "outputs": [
    {
     "name": "stdout",
     "output_type": "stream",
     "text": [
      "Current number 1 previous number 0 sum : 1\n",
      "Current number 2 previous number 1 sum : 3\n",
      "Current number 3 previous number 2 sum : 5\n",
      "Current number 4 previous number 3 sum : 7\n",
      "Current number 5 previous number 4 sum : 9\n",
      "Current number 6 previous number 5 sum : 11\n",
      "Current number 7 previous number 6 sum : 13\n",
      "Current number 8 previous number 7 sum : 15\n",
      "Current number 9 previous number 8 sum : 17\n",
      "Current number 10 previous number 9 sum : 19\n"
     ]
    }
   ],
   "source": [
    "previous_number = 0\n",
    "\n",
    "for i in range(1,11):\n",
    "    sum = i + previous_number\n",
    "    print(f\"Current number {i} previous number {previous_number} sum : {sum}\")\n",
    "    previous_number = i"
   ]
  },
  {
   "cell_type": "code",
   "execution_count": 4,
   "metadata": {},
   "outputs": [
    {
     "name": "stdout",
     "output_type": "stream",
     "text": [
      "<class 'str'>\n",
      "pntv\n"
     ]
    }
   ],
   "source": [
    "name = \"pynative\"\n",
    "\n",
    "print(type(name))\n",
    "\n",
    "print(name[0:8:2])"
   ]
  },
  {
   "cell_type": "code",
   "execution_count": 18,
   "metadata": {},
   "outputs": [
    {
     "name": "stdout",
     "output_type": "stream",
     "text": [
      "tive"
     ]
    }
   ],
   "source": [
    "def remove_chars(w,n):\n",
    "    new_word = list(w)\n",
    "    \n",
    "    for i in range(len(new_word)):\n",
    "        if i >= n:\n",
    "            print(new_word[i], end=\"\")\n",
    " \n",
    "\n",
    "name = \"pynative\"\n",
    "n_char = 4\n",
    "\n",
    "remove_chars(name,n_char)\n",
    "\n",
    "    \n",
    "\n"
   ]
  },
  {
   "cell_type": "code",
   "execution_count": 2,
   "metadata": {},
   "outputs": [
    {
     "name": "stdout",
     "output_type": "stream",
     "text": [
      "True\n",
      "False\n"
     ]
    }
   ],
   "source": [
    "numbers_x = [10, 20, 30, 40, 10]\n",
    "numbers_y = [75, 65, 35, 75, 30]\n",
    "\n",
    "def check(list1):\n",
    "    first_number = list1[0]\n",
    "    last_number = list1[-1]\n",
    "    \n",
    "    if first_number == last_number:\n",
    "        print(\"True\")\n",
    "    else:\n",
    "        print(\"False\") \n",
    "\n",
    "\n",
    "check(numbers_x) \n",
    "\n",
    "check(numbers_y)\n",
    "\n"
   ]
  },
  {
   "cell_type": "code",
   "execution_count": 9,
   "metadata": {},
   "outputs": [
    {
     "name": "stdout",
     "output_type": "stream",
     "text": [
      "10 20 55 "
     ]
    }
   ],
   "source": [
    "\n",
    "numbers = [10, 20, 33, 46, 55]\n",
    "\n",
    "for i in range(len(numbers)):\n",
    "    if numbers[i] % 5 == 0:\n",
    "        print(numbers[i], \"\", end=\"\")\n",
    "\n",
    "        \n",
    "        \n",
    "\n"
   ]
  },
  {
   "cell_type": "code",
   "execution_count": 1,
   "metadata": {},
   "outputs": [
    {
     "name": "stdout",
     "output_type": "stream",
     "text": [
      "[]\n"
     ]
    }
   ],
   "source": [
    "g = [1,2,3,4]\n",
    "g.clear()\n",
    "\n",
    "print(g)"
   ]
  },
  {
   "cell_type": "code",
   "execution_count": 2,
   "metadata": {},
   "outputs": [
    {
     "name": "stdout",
     "output_type": "stream",
     "text": [
      "(0, 'P') (1, 'y') (2, 't') (3, 'h') (4, 'o') (5, 'n') "
     ]
    }
   ],
   "source": [
    "x = list('Python')\n",
    "\n",
    "for i in enumerate(x): #produces a tuple (index, item)\n",
    "    print(i, end=\" \")"
   ]
  },
  {
   "cell_type": "code",
   "execution_count": 4,
   "metadata": {},
   "outputs": [
    {
     "name": "stdout",
     "output_type": "stream",
     "text": [
      "True\n",
      "Dino\n",
      "Poodle\n"
     ]
    }
   ],
   "source": [
    "class Dog:\n",
    "    def __init__(self, name, breed):\n",
    "        self.name = name\n",
    "        self.breed = breed\n",
    "\n",
    "dog1 = Dog(\"Dino\", \"Poodle\")\n",
    "\n",
    "print(isinstance(dog1, Dog))\n",
    "\n",
    "print(dog1.name)  # Output: Buddy\n",
    "print(dog1.breed) # Output: Golden Retriever\n",
    "\n",
    "        "
   ]
  },
  {
   "cell_type": "code",
   "execution_count": 5,
   "metadata": {},
   "outputs": [
    {
     "name": "stdout",
     "output_type": "stream",
     "text": [
      "100\n"
     ]
    }
   ],
   "source": [
    "def fun():\n",
    "    x = 100\n",
    "    print(x)\n",
    "\n",
    "x =+ 1\n",
    "\n",
    "fun()"
   ]
  }
 ],
 "metadata": {
  "kernelspec": {
   "display_name": "notebook_env",
   "language": "python",
   "name": "python3"
  },
  "language_info": {
   "codemirror_mode": {
    "name": "ipython",
    "version": 3
   },
   "file_extension": ".py",
   "mimetype": "text/x-python",
   "name": "python",
   "nbconvert_exporter": "python",
   "pygments_lexer": "ipython3",
   "version": "3.11.5"
  }
 },
 "nbformat": 4,
 "nbformat_minor": 2
}
